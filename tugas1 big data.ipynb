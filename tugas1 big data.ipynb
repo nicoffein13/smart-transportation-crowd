{
 "cells": [
  {
   "cell_type": "markdown",
   "id": "73e893ec",
   "metadata": {},
   "source": [
    "<center><h1>JOB SHEET 1 TEXT PREPOCESSING</h1></center>\n",
    "<center><h1>FACHRY AKMAL FAUZAN</h1></center>\n",
    "<center><h1>5311421091</h1></center>"
   ]
  },
  {
   "cell_type": "markdown",
   "id": "456a6bf1",
   "metadata": {},
   "source": [
    "<ul>\n",
    "<li> all letters to lower or upper case</li>\n",
    "<li>converting numbers into words or removing numbers</li>\n",
    "<li>removing punctuations, accent marks and other diacritics</li>\n",
    "<li>removing white spaces</li>\n",
    "<li>expanding abbreviations</li>\n",
    "<li>removing stop words, sparse terms, and particular words</li>\n",
    "<li>text canonicalization</li>\n",
    "</ul>"
   ]
  },
  {
   "cell_type": "markdown",
   "id": "ac411ed4",
   "metadata": {},
   "source": [
    "## fachry akmal fauzan\n",
    "## 5311421091\n",
    "\n",
    "## Convert text to lowercase"
   ]
  },
  {
   "cell_type": "code",
   "execution_count": 3,
   "id": "9b7a5835",
   "metadata": {},
   "outputs": [
    {
     "name": "stdout",
     "output_type": "stream",
     "text": [
      "the 5 biggest countries by population in 2017 are china, india, united states, indonesia, and brazil\n"
     ]
    }
   ],
   "source": [
    "input_str = \"The 5 biggest countries by population in 2017 are China, India, United States, Indonesia, and Brazil\"\n",
    "input_str = input_str.lower()\n",
    "print(input_str)"
   ]
  },
  {
   "cell_type": "markdown",
   "id": "834b64af",
   "metadata": {},
   "source": [
    "Kode tersebut adalah sebuah program Python yang berfungsi untuk mengubah semua huruf dalam string menjadi huruf kecil. String yang akan diubah diwakili oleh variabel bernama \"input_str\" yang memiliki nilai \"The 5 biggest countries by population in 2017 are China, India, United States, Indonesia, and Brazil\".\n",
    "\n",
    "Setelah itu, fungsi lower() digunakan untuk mengubah seluruh huruf dalam string menjadi huruf kecil. Hasil pengubahan kemudian dicetak dengan menggunakan fungsi print().\n",
    "\n",
    "Hasil output yang akan ditampilkan di layar adalah:\n",
    "\n",
    "\"the 5 biggest countries by population in 2017 are china, india, united states, indonesia, and brazil\"\n",
    "\n",
    "Dalam bahasa Indonesia, kode tersebut dapat dijelaskan sebagai berikut:\n",
    "\n",
    "Program tersebut berfungsi untuk mengubah semua huruf dalam sebuah kalimat menjadi huruf kecil. Kalimat yang akan diubah disimpan dalam variabel \"input_str\" dengan nilai \"The 5 biggest countries by population in 2017 are China, India, United States, Indonesia, and Brazil\".\n",
    "\n",
    "Setelah itu, fungsi lower() digunakan untuk mengubah seluruh huruf dalam kalimat menjadi huruf kecil. Hasil pengubahan kemudian dicetak dengan menggunakan fungsi print().\n",
    "\n",
    "Hasil output yang akan ditampilkan di layar adalah:\n",
    "\n",
    "\"the 5 biggest countries by population in 2017 are china, india, united states, indonesia, and brazil\""
   ]
  },
  {
   "cell_type": "markdown",
   "id": "d2f2735f",
   "metadata": {},
   "source": [
    "## Remove numbers"
   ]
  },
  {
   "cell_type": "code",
   "execution_count": 4,
   "id": "214ef4d2",
   "metadata": {},
   "outputs": [
    {
     "name": "stdout",
     "output_type": "stream",
     "text": [
      "Box A contains  red and  white balls, while Box B contains  red and  blue balls.\n"
     ]
    }
   ],
   "source": [
    "import re\n",
    "input_str = \"Box A contains 3 red and 5 white balls, while Box B contains 4 red and 2 blue balls.\"\n",
    "result = re.sub(r'\\d+', '', input_str)\n",
    "print(result)"
   ]
  },
  {
   "cell_type": "markdown",
   "id": "e6396180",
   "metadata": {},
   "source": [
    "Kode tersebut adalah sebuah program Python yang menggunakan modul re (regular expression) untuk menghapus semua angka dalam sebuah string. String yang akan diolah disimpan dalam variabel \"input_str\" dengan nilai \"Box A contains 3 red and 5 white balls, while Box B contains 4 red and 2 blue balls.\"\n",
    "\n",
    "Fungsi re.sub() digunakan untuk melakukan penggantian pada substring yang sesuai dengan pola yang diberikan. Pada kasus ini, pola yang digunakan adalah r'\\d+' yang berarti mencari semua angka dalam string. Seluruh angka yang ditemukan akan diganti dengan string kosong ('').\n",
    "\n",
    "Hasil penggantian kemudian disimpan dalam variabel \"result\" dan dicetak menggunakan fungsi print().\n",
    "\n",
    "Hasil output yang akan ditampilkan di layar adalah:\n",
    "\n",
    "\"Box A contains red and white balls, while Box B contains red and blue balls.\"\n",
    "\n",
    "Dalam bahasa Indonesia, kode tersebut dapat dijelaskan sebagai berikut:\n",
    "\n",
    "Program tersebut menggunakan modul re (regular expression) untuk menghapus semua angka dalam sebuah kalimat. Kalimat yang akan diolah disimpan dalam variabel \"input_str\" dengan nilai \"Box A contains 3 red and 5 white balls, while Box B contains 4 red and 2 blue balls.\"\n",
    "\n",
    "Fungsi re.sub() digunakan untuk melakukan penggantian pada substring yang sesuai dengan pola yang diberikan. Pada kasus ini, pola yang digunakan adalah r'\\d+' yang berarti mencari semua angka dalam kalimat. Seluruh angka yang ditemukan akan diganti dengan string kosong ('').\n",
    "\n",
    "Hasil penggantian kemudian disimpan dalam variabel \"result\" dan dicetak menggunakan fungsi print().\n",
    "\n",
    "Hasil output yang akan ditampilkan di layar adalah:\n",
    "\n",
    "\"Box A contains red and white balls, while Box B contains red and blue balls.\""
   ]
  },
  {
   "cell_type": "markdown",
   "id": "20ef931c",
   "metadata": {},
   "source": [
    "## Remove punctuation"
   ]
  },
  {
   "cell_type": "markdown",
   "id": "0df53d98",
   "metadata": {},
   "source": [
    "The following code removes this set of symbols [!”#$%&’()*+,-./:;<=>?@[\\]^_`{|}~]:"
   ]
  },
  {
   "cell_type": "code",
   "execution_count": 5,
   "id": "c01306fe",
   "metadata": {},
   "outputs": [
    {
     "name": "stdout",
     "output_type": "stream",
     "text": [
      "This is an example of string with punctuation\n"
     ]
    }
   ],
   "source": [
    "import string\n",
    "input_str = \"This &is [an] example? {of} string. with.? punctuation!!!!\" # Sample string\n",
    "result = input_str.translate(str.maketrans('', '', string.punctuation))\n",
    "print(result)\n"
   ]
  },
  {
   "cell_type": "markdown",
   "id": "be882572",
   "metadata": {},
   "source": [
    "Kode tersebut adalah sebuah program Python yang menggunakan modul string untuk menghapus semua tanda baca dalam sebuah string. String yang akan diolah disimpan dalam variabel \"input_str\" dengan nilai \"This &is [an] example? {of} string. with.? punctuation!!!!\".\n",
    "\n",
    "Fungsi translate() digunakan untuk melakukan translasi pada string berdasarkan tabel translasi yang diberikan. Tabel translasi yang digunakan dalam kode ini dihasilkan oleh fungsi maketrans() dari modul string. Dalam kasus ini, tabel translasi tersebut dibuat dengan dua parameter yaitu \"''\" dan string.punctuation. Parameter pertama (\"''\") berisi daftar karakter yang ingin dihilangkan dari string (dalam kasus ini kosong), sedangkan parameter kedua string.punctuation berisi semua tanda baca yang ingin dihapus dari string.\n",
    "\n",
    "Hasil translasi kemudian disimpan dalam variabel \"result\" dan dicetak menggunakan fungsi print().\n",
    "\n",
    "Hasil output yang akan ditampilkan di layar adalah:\n",
    "\n",
    "\"This is an example of string with punctuation\"\n",
    "\n",
    "Dalam bahasa Indonesia, kode tersebut dapat dijelaskan sebagai berikut:\n",
    "\n",
    "Program tersebut menggunakan modul string untuk menghapus semua tanda baca dalam sebuah kalimat. Kalimat yang akan diolah disimpan dalam variabel \"input_str\" dengan nilai \"This &is [an] example? {of} string. with.? punctuation!!!!\".\n",
    "\n",
    "Fungsi translate() digunakan untuk melakukan translasi pada kalimat berdasarkan tabel translasi yang diberikan. Tabel translasi yang digunakan dalam kode ini dihasilkan oleh fungsi maketrans() dari modul string. Dalam kasus ini, tabel translasi tersebut dibuat dengan dua parameter yaitu \"''\" dan string.punctuation. Parameter pertama (\"''\") berisi daftar karakter yang ingin dihilangkan dari kalimat (dalam kasus ini kosong), sedangkan parameter kedua string.punctuation berisi semua tanda baca yang ingin dihapus dari kalimat.\n",
    "\n",
    "Hasil translasi kemudian disimpan dalam variabel \"result\" dan dicetak menggunakan fungsi print().\n",
    "\n",
    "Hasil output yang akan ditampilkan di layar adalah:\n",
    "\n",
    "\"This is an example of string with punctuation\""
   ]
  },
  {
   "cell_type": "markdown",
   "id": "0f5daf98",
   "metadata": {},
   "source": [
    "## Remove whitespaces"
   ]
  },
  {
   "cell_type": "code",
   "execution_count": 7,
   "id": "38bc594d",
   "metadata": {},
   "outputs": [
    {
     "data": {
      "text/plain": [
       "'a string example'"
      ]
     },
     "execution_count": 7,
     "metadata": {},
     "output_type": "execute_result"
    }
   ],
   "source": [
    "input_str = \" \\t a string example\\t \"\n",
    "input_str = input_str.strip()\n",
    "input_str"
   ]
  },
  {
   "cell_type": "markdown",
   "id": "89d4b4d3",
   "metadata": {},
   "source": [
    "Kode tersebut adalah sebuah program Python yang menggunakan modul string untuk menghapus semua tanda baca dalam sebuah string. String yang akan diolah disimpan dalam variabel \"input_str\" dengan nilai \"This &is [an] example? {of} string. with.? punctuation!!!!\".\n",
    "\n",
    "Fungsi translate() digunakan untuk melakukan translasi pada string berdasarkan tabel translasi yang diberikan. Tabel translasi yang digunakan dalam kode ini dihasilkan oleh fungsi maketrans() dari modul string. Dalam kasus ini, tabel translasi tersebut dibuat dengan dua parameter yaitu \"''\" dan string.punctuation. Parameter pertama (\"''\") berisi daftar karakter yang ingin dihilangkan dari string (dalam kasus ini kosong), sedangkan parameter kedua string.punctuation berisi semua tanda baca yang ingin dihapus dari string.\n",
    "\n",
    "Hasil translasi kemudian disimpan dalam variabel \"result\" dan dicetak menggunakan fungsi print().\n",
    "\n",
    "Hasil output yang akan ditampilkan di layar adalah:\n",
    "\n",
    "\"This is an example of string with punctuation\"\n",
    "\n",
    "Dalam bahasa Indonesia, kode tersebut dapat dijelaskan sebagai berikut:\n",
    "\n",
    "Program tersebut menggunakan modul string untuk menghapus semua tanda baca dalam sebuah kalimat. Kalimat yang akan diolah disimpan dalam variabel \"input_str\" dengan nilai \"This &is [an] example? {of} string. with.? punctuation!!!!\".\n",
    "\n",
    "Fungsi translate() digunakan untuk melakukan translasi pada kalimat berdasarkan tabel translasi yang diberikan. Tabel translasi yang digunakan dalam kode ini dihasilkan oleh fungsi maketrans() dari modul string. Dalam kasus ini, tabel translasi tersebut dibuat dengan dua parameter yaitu \"''\" dan string.punctuation. Parameter pertama (\"''\") berisi daftar karakter yang ingin dihilangkan dari kalimat (dalam kasus ini kosong), sedangkan parameter kedua string.punctuation berisi semua tanda baca yang ingin dihapus dari kalimat.\n",
    "\n",
    "Hasil translasi kemudian disimpan dalam variabel \"result\" dan dicetak menggunakan fungsi print().\n",
    "\n",
    "Hasil output yang akan ditampilkan di layar adalah:\n",
    "\n",
    "\"This is an example of string with punctuation\"\n",
    "\n",
    "\n",
    "\n"
   ]
  },
  {
   "cell_type": "markdown",
   "id": "d13e229f",
   "metadata": {},
   "source": [
    "## Remove stop words"
   ]
  },
  {
   "cell_type": "code",
   "execution_count": 17,
   "id": "48dc0353",
   "metadata": {},
   "outputs": [
    {
     "name": "stdout",
     "output_type": "stream",
     "text": [
      "['NLTK', 'leading', 'platform', 'building', 'Python', 'programs', 'work', 'human', 'language', 'data', '.']\n"
     ]
    }
   ],
   "source": [
    "import nltk\n",
    "from nltk.corpus import stopwords\n",
    "from nltk.tokenize import word_tokenize\n",
    "\n",
    "input_str = \"NLTK is a leading platform for building Python programs to work with human language data.\"\n",
    "stop_words = set(stopwords.words('english'))\n",
    "\n",
    "tokens = word_tokenize(input_str)\n",
    "result = [i for i in tokens if not i in stop_words]\n",
    "\n",
    "print(result)"
   ]
  },
  {
   "cell_type": "markdown",
   "id": "ad329eca",
   "metadata": {},
   "source": [
    "Kode tersebut adalah sebuah program Python yang menggunakan Natural Language Toolkit (NLTK) untuk melakukan tokenisasi pada kalimat, menghapus stopwords (kata-kata yang umum dan tidak memiliki makna yang signifikan dalam analisis teks), dan menampilkan kata-kata yang tersisa. Kalimat yang akan diolah disimpan dalam variabel \"input_str\" dengan nilai \"NLTK is a leading platform for building Python programs to work with human language data.\".\n",
    "\n",
    "Pertama-tama, program mengimpor modul \"stopwords\" dari NLTK untuk mengambil set kata-kata yang dianggap stopwords dalam bahasa Inggris. Selanjutnya, program mengimpor modul \"word_tokenize\" dari NLTK untuk melakukan tokenisasi pada kalimat dan menghasilkan list token.\n",
    "\n",
    "Setelah itu, program memasukkan semua token ke dalam variabel \"tokens\". Kemudian, program menggunakan list comprehension untuk memfilter setiap token yang termasuk dalam set \"stop_words\" dan menghasilkan list baru yang hanya berisi token-token yang bukan stopwords. Hasil pengolahan kemudian disimpan dalam variabel \"result\".\n",
    "\n",
    "Akhirnya, program mencetak list \"result\" menggunakan fungsi print().\n",
    "\n",
    "Hasil output yang akan ditampilkan di layar adalah:\n",
    "\n",
    "['NLTK', 'leading', 'platform', 'building', 'Python', 'programs', 'work', 'human', 'language', 'data', '.']\n",
    "\n",
    "Dalam bahasa Indonesia, kode tersebut dapat dijelaskan sebagai berikut:\n",
    "\n",
    "Program tersebut menggunakan Natural Language Toolkit (NLTK) untuk melakukan tokenisasi pada kalimat, menghapus stopwords (kata-kata yang umum dan tidak memiliki makna yang signifikan dalam analisis teks), dan menampilkan kata-kata yang tersisa. Kalimat yang akan diolah disimpan dalam variabel \"input_str\" dengan nilai \"NLTK is a leading platform for building Python programs to work with human language data.\".\n",
    "\n",
    "Pertama-tama, program mengimpor modul \"stopwords\" dari NLTK untuk mengambil set kata-kata yang dianggap stopwords dalam bahasa Inggris. Selanjutnya, program mengimpor modul \"word_tokenize\" dari NLTK untuk melakukan tokenisasi pada kalimat dan menghasilkan list token.\n",
    "\n",
    "Setelah itu, program memasukkan semua token ke dalam variabel \"tokens\". Kemudian, program menggunakan list comprehension untuk memfilter setiap token yang termasuk dalam set \"stop_words\" dan menghasilkan list baru yang hanya berisi token-token yang bukan stopwords. Hasil pengolahan kemudian disimpan dalam variabel \"result\".\n",
    "\n",
    "Akhirnya, program mencetak list \"result\" menggunakan fungsi print().\n",
    "\n",
    "Hasil output yang akan ditampilkan di layar adalah:\n",
    "\n",
    "['NLTK', 'leading', 'platform', 'building', 'Python', 'programs', 'work', 'human', 'language', 'data', '.']"
   ]
  },
  {
   "cell_type": "markdown",
   "id": "c85fb9c3",
   "metadata": {},
   "source": [
    "## Stemming"
   ]
  },
  {
   "cell_type": "code",
   "execution_count": 23,
   "id": "7777e630",
   "metadata": {},
   "outputs": [
    {
     "name": "stdout",
     "output_type": "stream",
     "text": [
      "there\n",
      "are\n",
      "sever\n",
      "type\n",
      "of\n",
      "stem\n",
      "algorithm\n",
      ".\n"
     ]
    }
   ],
   "source": [
    "from nltk.stem import PorterStemmer\n",
    "from nltk.tokenize import word_tokenize\n",
    "\n",
    "stemmer = PorterStemmer()\n",
    "\n",
    "input_str = \"There are several types of stemming algorithms.\"\n",
    "input_str = word_tokenize(input_str)\n",
    "\n",
    "for word in input_str:\n",
    "    print(stemmer.stem(word))\n"
   ]
  },
  {
   "cell_type": "markdown",
   "id": "e33dd879",
   "metadata": {},
   "source": [
    "Kode tersebut menggunakan modul nltk.stem untuk melakukan stemming pada kata-kata dalam suatu kalimat. Pada baris pertama dan kedua, dilakukan import modul PorterStemmer dan word_tokenize dari pustaka nltk.stem dan nltk.tokenize.\n",
    "\n",
    "Kemudian, pada baris ke-4, objek PorterStemmer diinisialisasi sebagai stemmer. Objek PorterStemmer adalah objek yang digunakan untuk melakukan stemming pada kata-kata dalam kalimat. Porter Stemmer adalah salah satu algoritma stemming yang paling umum digunakan di bidang pemrosesan bahasa alami.\n",
    "\n",
    "Pada baris ke-6, string input_str didefinisikan sebagai \"There are several types of stemming algorithms.\" Kemudian, pada baris ke-7, string input_str dipecah menjadi token menggunakan fungsi word_tokenize() dari modul nltk.tokenize dan hasilnya disimpan kembali ke variabel input_str.\n",
    "\n",
    "Pada baris ke-9, dilakukan looping pada setiap kata dalam list input_str. Kemudian, pada baris ke-10, fungsi stem() dari objek stemmer digunakan untuk melakukan stemming pada kata saat ini. Hasil stemming dicetak ke layar menggunakan fungsi print() pada setiap iterasi loop.\n",
    "\n",
    "Sehingga, kode tersebut akan menghasilkan keluaran berupa kata-kata yang sudah di-stem menggunakan algoritma Porter Stemmer."
   ]
  },
  {
   "cell_type": "markdown",
   "id": "57e38e58",
   "metadata": {},
   "source": [
    "## Lemmatization"
   ]
  },
  {
   "cell_type": "code",
   "execution_count": 29,
   "id": "8d23754e",
   "metadata": {},
   "outputs": [
    {
     "name": "stdout",
     "output_type": "stream",
     "text": [
      "been\n",
      "had\n",
      "done\n",
      "language\n",
      "city\n",
      "mouse\n"
     ]
    }
   ],
   "source": [
    "from nltk.stem import WordNetLemmatizer\n",
    "from nltk.tokenize import word_tokenize\n",
    "\n",
    "lemmatizer = WordNetLemmatizer()\n",
    "\n",
    "input_str = \"been had done languages cities mice\"\n",
    "input_str = word_tokenize(input_str)\n",
    "\n",
    "for word in input_str:\n",
    "    print(lemmatizer.lemmatize(word))\n"
   ]
  },
  {
   "cell_type": "markdown",
   "id": "900b8680",
   "metadata": {},
   "source": [
    "Kode tersebut menggunakan library NLTK (Natural Language Toolkit) dan mengimpor modul WordNetLemmatizer dan word_tokenize.\n",
    "\n",
    "WordNetLemmatizer digunakan untuk melakukan lemmatisasi pada kata dalam input, yaitu mengubah kata ke bentuk dasarnya atau kata kerja ke bentuk infinitifnya. Sedangkan word_tokenize digunakan untuk memecah input string menjadi token atau kata-kata terpisah.\n",
    "\n",
    "Kemudian, input string \"been had done languages cities mice\" dipecah menjadi token menggunakan word_tokenize dan disimpan dalam variabel input_str. Selanjutnya, setiap token diproses menggunakan lemmatizer.\n",
    "\n",
    "Hasilnya, setiap kata akan dicetak dengan bentuknya yang sudah dilemmatisasi ke dalam kata dasar atau kata infinitif."
   ]
  },
  {
   "cell_type": "markdown",
   "id": "8ee8efb1",
   "metadata": {},
   "source": [
    "## Part of speech tagging (POS)"
   ]
  },
  {
   "cell_type": "code",
   "execution_count": 3,
   "id": "8af01d60",
   "metadata": {},
   "outputs": [
    {
     "name": "stdout",
     "output_type": "stream",
     "text": [
      "[('Parts', 'NNS'), ('of', 'IN'), ('speech', 'NN'), ('examples', 'NNS'), ('an', 'DT'), ('article', 'NN'), ('to', 'TO'), ('write', 'VB'), ('interesting', 'VBG'), ('easily', 'RB'), ('and', 'CC'), ('of', 'IN')]\n"
     ]
    }
   ],
   "source": [
    "from textblob import TextBlob\n",
    "\n",
    "input_str = \"Parts of speech examples: an article, to write, interesting, easily, and of\"\n",
    "result = TextBlob(input_str)\n",
    "print(result.tags)\n"
   ]
  },
  {
   "cell_type": "markdown",
   "id": "e1db46ee",
   "metadata": {},
   "source": [
    "Kode tersebut menggunakan library TextBlob untuk melakukan part-of-speech tagging pada input string. Pada baris pertama, library TextBlob diimpor. Selanjutnya, input string \"Parts of speech examples: an article, to write, interesting, easily, and of\" disimpan dalam variabel input_str.\n",
    "\n",
    "Kemudian, TextBlob() digunakan untuk membuat objek TextBlob dari input string, dan objek tersebut disimpan dalam variabel result. Objek TextBlob memiliki metode tags() yang digunakan untuk melakukan part-of-speech tagging pada teks yang diberikan.\n",
    "\n",
    "Hasil part-of-speech tagging kemudian dicetak dengan menggunakan print(result.tags), di mana setiap kata dalam input string dipasangkan dengan tag part-of-speech yang sesuai (misalnya, kata \"article\" ditandai sebagai noun, kata \"write\" ditandai sebagai verb, dll)."
   ]
  },
  {
   "cell_type": "markdown",
   "id": "edbf61d8",
   "metadata": {},
   "source": [
    "## Chunking (shallow parsing)"
   ]
  },
  {
   "cell_type": "code",
   "execution_count": 4,
   "id": "83a34e8b",
   "metadata": {},
   "outputs": [
    {
     "name": "stdout",
     "output_type": "stream",
     "text": [
      "[('A', 'DT'), ('black', 'JJ'), ('television', 'NN'), ('and', 'CC'), ('a', 'DT'), ('white', 'JJ'), ('stove', 'NN'), ('were', 'VBD'), ('bought', 'VBN'), ('for', 'IN'), ('the', 'DT'), ('new', 'JJ'), ('apartment', 'NN'), ('of', 'IN'), ('John', 'NNP')]\n"
     ]
    }
   ],
   "source": [
    "input_str = \"A black television and a white stove were bought for the new apartment of John.\"\n",
    "blob = TextBlob(input_str)\n",
    "tags = blob.tags\n",
    "\n",
    "print(tags)"
   ]
  },
  {
   "cell_type": "markdown",
   "id": "db17b46c",
   "metadata": {},
   "source": [
    "Kode tersebut menggunakan library TextBlob untuk melakukan analisis bahasa natural (NLP).\n",
    "\n",
    "Pada baris pertama, sebuah string \"A black television and a white stove were bought for the new apartment of John.\" disimpan dalam variabel input_str.\n",
    "\n",
    "Selanjutnya, variabel input_str digunakan sebagai argumen untuk membuat objek TextBlob pada baris kedua, dan disimpan dalam variabel result.\n",
    "\n",
    "Pada baris terakhir, metode tags() digunakan untuk menampilkan kata-kata dalam input_str dan tag part-of-speech (POS) atau jenis kata masing-masing. Hasilnya akan dicetak dalam bentuk tuples, dimana setiap tuple berisi sebuah kata dan jenis kata (tag) yang terkait."
   ]
  },
  {
   "cell_type": "code",
   "execution_count": 2,
   "id": "3b707725",
   "metadata": {},
   "outputs": [
    {
     "name": "stdout",
     "output_type": "stream",
     "text": [
      "(S\n",
      "  (NP A/DT black/JJ television/NN)\n",
      "  and/CC\n",
      "  (NP a/DT white/JJ stove/NN)\n",
      "  were/VBD\n",
      "  bought/VBN\n",
      "  for/IN\n",
      "  (NP the/DT new/JJ apartment/NN)\n",
      "  of/IN\n",
      "  John/NNP)\n"
     ]
    }
   ],
   "source": [
    "from textblob import TextBlob\n",
    "import nltk\n",
    "\n",
    "input_str = \"A black television and a white stove were bought for the new apartment of John.\"\n",
    "result = TextBlob(input_str).tags\n",
    "\n",
    "reg_exp = \"NP: {<DT>?<JJ>*<NN>}\"\n",
    "rp = nltk.RegexpParser(reg_exp)\n",
    "result = rp.parse(result)\n",
    "print(result)\n"
   ]
  },
  {
   "cell_type": "markdown",
   "id": "e8d17791",
   "metadata": {},
   "source": [
    "Kode ini melakukan beberapa hal. Pertama-tama, itu mengimpor dua pustaka Python, yaitu TextBlob dan nltk. Kemudian, kode menentukan variabel input_str dengan kalimat \"A black television and a white stove were bought for the new apartment of John.\"\n",
    "\n",
    "Setelah itu, kode menghitung tag untuk setiap kata dalam kalimat menggunakan TextBlob, dan menyimpan hasilnya dalam variabel result. Kemudian, kode menentukan sebuah pola sintaksis menggunakan ekspresi reguler (regular expression) yang diberi nama reg_exp. Pola sintaksis ini digunakan untuk menandai setiap noun phrase (frasa kata benda) dalam kalimat.\n",
    "\n",
    "Selanjutnya, kode membuat objek RegexpParser dari nltk dan menggunakan pola sintaksis reg_exp untuk mengurai kalimat. Hasil parsing kemudian disimpan kembali dalam variabel result. Akhirnya, kode mencetak hasil parsing tersebut ke konsol.\n",
    "\n",
    "Secara keseluruhan, tujuan dari kode ini adalah untuk melakukan parsing kalimat dan menandai noun phrase dalam kalimat tersebut."
   ]
  },
  {
   "cell_type": "code",
   "execution_count": 1,
   "id": "c52bcf43",
   "metadata": {},
   "outputs": [
    {
     "ename": "NameError",
     "evalue": "name 'result' is not defined",
     "output_type": "error",
     "traceback": [
      "\u001b[1;31m---------------------------------------------------------------------------\u001b[0m",
      "\u001b[1;31mNameError\u001b[0m                                 Traceback (most recent call last)",
      "\u001b[1;32m~\\AppData\\Local\\Temp\\ipykernel_7896\\4273271694.py\u001b[0m in \u001b[0;36m<module>\u001b[1;34m\u001b[0m\n\u001b[1;32m----> 1\u001b[1;33m \u001b[0mresult\u001b[0m\u001b[1;33m.\u001b[0m\u001b[0mdraw\u001b[0m\u001b[1;33m(\u001b[0m\u001b[1;33m)\u001b[0m\u001b[1;33m\u001b[0m\u001b[1;33m\u001b[0m\u001b[0m\n\u001b[0m",
      "\u001b[1;31mNameError\u001b[0m: name 'result' is not defined"
     ]
    }
   ],
   "source": [
    "result.draw()"
   ]
  },
  {
   "attachments": {
    "hiya.png": {
     "image/png": "[encoded data removed]"
    }
   },
   "cell_type": "markdown",
   "id": "0ba9f73b",
   "metadata": {},
   "source": [
    "![hiya.png](attachment:hiya.png)"
   ]
  },
  {
   "cell_type": "code",
   "execution_count": null,
   "id": "eb311966",
   "metadata": {},
   "outputs": [],
   "source": []
  }
 ],
 "metadata": {
  "kernelspec": {
   "display_name": "Python 3 (ipykernel)",
   "language": "python",
   "name": "python3"
  },
  "language_info": {
   "codemirror_mode": {
    "name": "ipython",
    "version": 3
   },
   "file_extension": ".py",
   "mimetype": "text/x-python",
   "name": "python",
   "nbconvert_exporter": "python",
   "pygments_lexer": "ipython3",
   "version": "3.9.13"
  }
 },
 "nbformat": 4,
 "nbformat_minor": 5
}
